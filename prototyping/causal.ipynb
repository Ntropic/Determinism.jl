{
 "cells": [
  {
   "cell_type": "code",
   "execution_count": 1,
   "metadata": {},
   "outputs": [
    {
     "data": {
      "text/plain": [
       "6-element Vector{Symbol}:\n",
       " :rand\n",
       " :randi\n",
       " :randn\n",
       " :randexp\n",
       " :randperm\n",
       " :randstring"
      ]
     },
     "metadata": {},
     "output_type": "display_data"
    }
   ],
   "source": [
    "using Random\n",
    "using SHA\n",
    "const rand_funs = [:rand, :randi, :randn, :randexp, :randperm, :randstring]"
   ]
  },
  {
   "cell_type": "code",
   "execution_count": 2,
   "metadata": {},
   "outputs": [
    {
     "data": {
      "text/plain": [
       "print_both_expr (generic function with 1 method)"
      ]
     },
     "metadata": {},
     "output_type": "display_data"
    }
   ],
   "source": [
    "function clean_expr(expr)\n",
    "    cleaned_expanded = Base.remove_linenums!(expr)\n",
    "    return cleaned_expanded\n",
    "end\n",
    "function print_expr(expr)\n",
    "    println(clean_expr(expr))\n",
    "end\n",
    "function print_both_expr(expr, expr_mod)\n",
    "    println(\"=\"^30,\" Original Expression \", \"=\"^30)\n",
    "    print_expr(expr)\n",
    "    println(\"\")\n",
    "    println(\"=\"^30,\" Modified Expression \", \"=\"^30)\n",
    "    print_expr(expr_mod)\n",
    "end"
   ]
  },
  {
   "cell_type": "code",
   "execution_count": 4,
   "metadata": {},
   "outputs": [
    {
     "name": "stdout",
     "output_type": "stream",
     "text": [
      "Arguments: [:i, :j]\n",
      "Args: (i, j) = zip(1:5, 2:6)\n",
      "Body: begin\n",
      "    println(i, j)\n",
      "end\n"
     ]
    }
   ],
   "source": [
    "function extract_variable_names(loop_var)\n",
    "    if isa(loop_var, Expr)\n",
    "        if loop_var.head == :tuple\n",
    "            # If it's a tuple, extract each variable\n",
    "            return [extract_variable_names(arg) for arg in loop_var.args]\n",
    "        elseif loop_var.head == :(=)\n",
    "            # If it's an assignment, extract the variable name\n",
    "            return extract_variable_names(loop_var.args[1])\n",
    "        end\n",
    "    elseif isa(loop_var, Symbol)\n",
    "        # If it's a single variable, return it\n",
    "        return loop_var\n",
    "    end\n",
    "    return nothing\n",
    "end\n",
    "function separate_for_block(for_expr::Expr)\n",
    "    # Check if it's a 'for' loop\n",
    "    if for_expr.head == :for\n",
    "        # The first two arguments are the loop variable and range\n",
    "        args = for_expr.args[1]\n",
    "        # The third argument is the body (or block of code)\n",
    "        body = for_expr.args[2]  # It should exist as long as the loop has a body\n",
    "        if length(for_expr.args) != 2\n",
    "            throw(ArgumentError(\"Block has wrong number of arguments\"))\n",
    "        end\n",
    "        varargs = extract_variable_names(args.args[1])\n",
    "        return varargs, args, body\n",
    "    else\n",
    "        throw(ArgumentError(\"Expression is not a for loop\"))\n",
    "    end\n",
    "end\n",
    "\n",
    "# Example usage\n",
    "for_expr = :(@threads for i in 1:5 println(i) end)\n",
    "for_expr2 = :(for (i,j) in zip(1:5, 2:6) println(i,j) end)\n",
    "for_expr3 = :(for i = 1:5 println(i) end)\n",
    "\n",
    "varargs, args, body = separate_for_block(for_expr2)\n",
    "\n",
    "println(\"Arguments: \", varargs)\n",
    "println(\"Args: \", args)\n",
    "println(\"Body: \", clean_expr(body))"
   ]
  },
  {
   "cell_type": "code",
   "execution_count": 5,
   "metadata": {},
   "outputs": [
    {
     "name": "stdout",
     "output_type": "stream",
     "text": [
      "true\n"
     ]
    }
   ],
   "source": [
    "function is_for_block(expr)\n",
    "    # check first if is a Expr \n",
    "    if isa(expr, Expr) \n",
    "        return expr.head == :for\n",
    "    else\n",
    "        false \n",
    "    end\n",
    "end\n",
    "function contains_for_block(expr)\n",
    "    if !isa(expr, Expr) \n",
    "        return false \n",
    "    end\n",
    "\n",
    "    # First, check if the current expression is a for-loop\n",
    "    if is_for_block(expr)\n",
    "        return true\n",
    "    end\n",
    "\n",
    "    # Recursively check in all subexpressions\n",
    "    for arg in expr.args\n",
    "        if arg isa Expr\n",
    "            if contains_for_block(arg)  # Check in the sub-expression\n",
    "                return true\n",
    "            end\n",
    "        end\n",
    "    end\n",
    "    return false\n",
    "end\n",
    "# Test \n",
    "parsed_expr = Meta.parse(\"\"\"\n",
    "function test_function()\n",
    "    for i in 1:10\n",
    "        x = rand()\n",
    "        println(x)\n",
    "    end\n",
    "end\n",
    "\"\"\")\n",
    "println(contains_for_block(parsed_expr))"
   ]
  },
  {
   "cell_type": "code",
   "execution_count": 6,
   "metadata": {},
   "outputs": [
    {
     "data": {
      "text/plain": [
       "extract_macro_symbol (generic function with 1 method)"
      ]
     },
     "metadata": {},
     "output_type": "display_data"
    }
   ],
   "source": [
    "function extract_macro_symbol(expr)\n",
    "    if isa(expr.args[1], Expr) && expr.args[1].head == :(.)\n",
    "        # Extract the last argument of the dotted expression\n",
    "        node = expr.args[1].args[end]\n",
    "        return isa(node, QuoteNode) ? node.value : node\n",
    "    elseif isa(expr.args[1], Symbol)\n",
    "        # Direct symbol case (e.g., @floop)\n",
    "        return expr.args[1]\n",
    "    else\n",
    "        throw(ArgumentError(\"Unexpected macro expression structure\"))\n",
    "    end\n",
    "end"
   ]
  },
  {
   "cell_type": "code",
   "execution_count": 161,
   "metadata": {},
   "outputs": [
    {
     "name": "stdout",
     "output_type": "stream",
     "text": [
      "============================== Original Expression ==============================\n",
      "begin\n",
      "    x = rand(10, 10)\n",
      "    for i = 1:10\n",
      "        \u001b[90m#= c:\\Users\\micha\\Desktop\\PhD\\Research\\Projects\\Reunipolator\\Julia\\jl_notebook_cell_df34fa98e69747e1a8f8a730347b8e2f_X42sZmlsZQ==.jl:82 =#\u001b[39m @sync \u001b[90m#= c:\\Users\\micha\\Desktop\\PhD\\Research\\Projects\\Reunipolator\\Julia\\jl_notebook_cell_df34fa98e69747e1a8f8a730347b8e2f_X42sZmlsZQ==.jl:82 =#\u001b[39m Threads.@threads(for j = 1:10\n",
      "                    a = sum(rand(10))\n",
      "                    for k = 1:10\n",
      "                        b = rand()\n",
      "                    end\n",
      "                end)\n",
      "    end\n",
      "end\n",
      "\n",
      "============================== Modified Expression ==============================\n",
      "begin\n",
      "    x = rand(rng, 10, 10)\n",
      "    for i = 1:10\n",
      "        \u001b[90m#= c:\\Users\\micha\\Desktop\\PhD\\Research\\Projects\\Reunipolator\\Julia\\jl_notebook_cell_df34fa98e69747e1a8f8a730347b8e2f_X42sZmlsZQ==.jl:82 =#\u001b[39m @sync \u001b[90m#= c:\\Users\\micha\\Desktop\\PhD\\Research\\Projects\\Reunipolator\\Julia\\jl_notebook_cell_df34fa98e69747e1a8f8a730347b8e2f_X42sZmlsZQ==.jl:82 =#\u001b[39m Threads.@threads(for j = 1:10\n",
      "                    var\"##rng#323\" = MersenneTwister(hash((i, j)))\n",
      "                    a = sum(rand(var\"##rng#323\", 10))\n",
      "                    for k = 1:10\n",
      "                        b = rand(var\"##rng#323\")\n",
      "                    end\n",
      "                end)\n",
      "    end"
     ]
    }
   ],
   "source": [
    "function fix_rng(expr, new_rng_var::Symbol=:rng, old_rng_var::Symbol=:rng, symbols::Vector{Symbol}=Symbol[], hash_int::Int=0, in_parallel_macro::Bool=false)\n",
    "    # Base case: if it's not an expression, replace old_rng_var with new_rng_var if necessary\n",
    "    if !isa(expr, Expr)\n",
    "        return expr == old_rng_var ? new_rng_var : expr\n",
    "    end \n",
    "\n",
    "    # Handle macro calls (e.g., @threads, @sync)\n",
    "    if expr.head == :macrocall\n",
    "        macro_name = extract_macro_symbol(expr)\n",
    "        parallel_macros = [Symbol(\"@threads\"), Symbol(\"@distributed\"), Symbol(\"@parallel\"), Symbol(\"@floop\")]\n",
    "        if macro_name in parallel_macros\n",
    "            # Recursively process the macro body, indicating it's inside a parallel macro\n",
    "            expr.args[end] = fix_rng(expr.args[end], new_rng_var, old_rng_var, symbols, hash_int, true)\n",
    "        else\n",
    "            # Process the macro body without marking it as parallel\n",
    "            expr.args[end] = fix_rng(expr.args[end], new_rng_var, old_rng_var, symbols, hash_int)\n",
    "        end\n",
    "        return expr\n",
    "    end\n",
    "\n",
    "    # Handle `for` loops\n",
    "    if is_for_block(expr)\n",
    "        curr_symbols = copy(symbols)\n",
    "        loop_var, other_args, body = separate_for_block(expr)\n",
    "\n",
    "        # Track loop variables\n",
    "        if loop_var isa Vector\n",
    "            append!(curr_symbols, loop_var)\n",
    "        elseif loop_var isa Symbol\n",
    "            push!(curr_symbols, loop_var)\n",
    "        end\n",
    "\n",
    "        # If inside a parallel macro, generate a new RNG per iteration\n",
    "        if in_parallel_macro\n",
    "            rng_symbol = gensym(:rng)\n",
    "            if length(curr_symbols) > 0\n",
    "                if hash_int > 0\n",
    "                    rng_expr = :( $rng_symbol = MersenneTwister(hash($(Expr(:tuple, curr_symbols...)))+$hash_int) ) \n",
    "                else\n",
    "                    rng_expr = :( $rng_symbol = MersenneTwister(hash($(Expr(:tuple, curr_symbols...)))) ) \n",
    "                end\n",
    "            else\n",
    "                rng_expr = :( $rng_symbol = MersenneTwister(hash($hash_int)) )\n",
    "            end\n",
    "            new_body = fix_rng(body, rng_symbol, old_rng_var, curr_symbols, hash_int)\n",
    "            return Expr(:for, other_args, Expr(:block, rng_expr, new_body.args...))\n",
    "        else\n",
    "            # Non-parallel `for` loops: process the body as-is\n",
    "            return Expr(:for, other_args, fix_rng(body, new_rng_var, old_rng_var, curr_symbols, hash_int))\n",
    "        end\n",
    "    end\n",
    "\n",
    "    # Handle `while` loops\n",
    "    if expr.head == :while\n",
    "        return Expr(:while, map(x -> fix_rng(x, new_rng_var, old_rng_var, symbols, hash_int), expr.args)...)\n",
    "    end\n",
    "\n",
    "    # Handle function calls\n",
    "    if expr.head == :call\n",
    "        processed_args = map(arg -> fix_rng(arg, new_rng_var, old_rng_var, symbols, hash_int), expr.args)\n",
    "        if processed_args[1] in rand_funs\n",
    "            updated_args = map(x -> x == old_rng_var ? new_rng_var : x, processed_args)\n",
    "            if new_rng_var in updated_args[2:end]\n",
    "                return Expr(:call, updated_args...)\n",
    "            else\n",
    "                return Expr(:call, processed_args[1], new_rng_var, updated_args[2:end]...)\n",
    "            end\n",
    "        else\n",
    "            return Expr(:call, processed_args...)\n",
    "        end\n",
    "    end\n",
    "\n",
    "    # Recursively process all arguments for other expression types\n",
    "    return Expr(expr.head, map(x -> fix_rng(x, new_rng_var, old_rng_var, symbols, hash_int), expr.args)...)\n",
    "end\n",
    "\n",
    "\n",
    "# Example usage\n",
    "code = :(begin\n",
    "    x = rand(10,10)\n",
    "    for i =1:10\n",
    "        @sync Threads.@threads for j in 1:10\n",
    "            a = sum(rand(10))\n",
    "            for k in 1:10\n",
    "                b = rand()\n",
    "            end\n",
    "        end\n",
    "    end\n",
    "end)\n",
    "rng_new = :rng\n",
    "# Replace random functions with Twister RNG\n",
    "new_code = fix_rng(copy(code), rng_new)\n",
    "print_both_expr(code, new_code)\n",
    "#rng = MersenneTwister(0)\n",
    "#eval(new_code)\n",
    "#x"
   ]
  },
  {
   "cell_type": "code",
   "execution_count": 162,
   "metadata": {},
   "outputs": [
    {
     "name": "stdout",
     "output_type": "stream",
     "text": [
      "============================== Original Expression ==============================\n",
      "begin\n",
      "    x = rand(10, 10)\n",
      "    for i = 1:10\n",
      "        \u001b[90m#= c:\\Users\\micha\\Desktop\\PhD\\Research\\Projects\\Reunipolator\\Julia\\jl_notebook_cell_df34fa98e69747e1a8f8a730347b8e2f_X42sZmlsZQ==.jl:82 =#\u001b[39m @sync \u001b[90m#= c:\\Users\\micha\\Desktop\\PhD\\Research\\Projects\\Reunipolator\\Julia\\jl_notebook_cell_df34fa98e69747e1a8f8a730347b8e2f_X42sZmlsZQ==.jl:82 =#\u001b[39m Threads.@threads(for j = 1:10\n",
      "                    a = sum(rand(10))\n",
      "                    for k = 1:10\n",
      "                        b = rand()\n",
      "                    end\n",
      "                end)\n",
      "    end\n",
      "end\n",
      "\n",
      "============================== Modified Expression ==============================\n",
      "$(Expr(:escape, quote\n",
      "    if !(\u001b[90m#= c:\\Users\\micha\\Desktop\\PhD\\Research\\Projects\\Reunipolator\\Julia\\jl_notebook_cell_df34fa98e69747e1a8f8a730347b8e2f_X13sZmlsZQ==.jl:3 =#\u001b[39m Base.@isdefined(rng))\n",
      "        rng = MersenneTwister(0)\n",
      "    end\n",
      "    begin\n",
      "        x = rand(rng, 10, 10)\n",
      "        for i = 1:10\n",
      "            \u001b[90m#= c:\\Users\\micha\\Desktop\\PhD\\Research\\Projects\\Reunipolator\\Julia\\jl_notebook_cell_df34fa98e69747e1a8f8a730347b8e2f_X42sZmlsZQ==.jl:82 =#\u001b[39m @sync \u001b[90m#= c:\\Users\\micha\\Desktop\\PhD\\Research\\Projects\\Reunipolator\\Julia\\jl_notebook_cell_df34fa98e69747e1a8f8a730347b8e2f_X42sZmlsZQ==.jl:82 =#\u001b[39m Threads.@threads(for j = 1:10\n",
      "                        var\"##rng#324\" = MersenneTwister(hash((i, j)))\n",
      "                        a = sum(rand(var\"##rng#324\", 10))\n",
      "                        for k = 1:10\n",
      "                            b = rand(var\"##rng#324\")\n",
      "                        end\n",
      "                    end)\n",
      "        end\n",
      "    end\n",
      "end))\n"
     ]
    }
   ],
   "source": [
    "function add_twister_if_undefined(rng_var::Symbol, hash_int::Int=0)\n",
    "    # Generate the conditional `if` expression\n",
    "    return :(if !(Base.@isdefined $(rng_var))\n",
    "                $rng_var = MersenneTwister($hash_int)\n",
    "            end)\n",
    "end\n",
    "function fix_rng_with_twister(expr::Expr, rng_var::Symbol, hash_int::Int)\n",
    "    # Add the Twister initialization if the RNG variable is not defined\n",
    "    rng_check_expr = add_twister_if_undefined(rng_var, hash_int)\n",
    "\n",
    "    # Process the input expression using `fix_rng`\n",
    "    fixed_expr = fix_rng(expr, rng_var, rng_var, Symbol[], hash_int, false)\n",
    "    # Combine the Twister initialization and the transformed expression\n",
    "    return esc(Expr(:block, rng_check_expr, fixed_expr))\n",
    "end\n",
    "\n",
    "macro determinism(expr::Expr)\n",
    "    rng_var::Symbol = :rng\n",
    "    hash_int::Int = 0\n",
    "    new_expr = fix_rng_with_twister(expr, rng_var, hash_int)\n",
    "    return new_expr\n",
    "end\n",
    "\n",
    "macro determinism(rng_var::Symbol, expr::Expr)\n",
    "    hash_int::Int = 0\n",
    "    return fix_rng_with_twister(expr, rng_var, hash_int)\n",
    "end\n",
    "\n",
    "macro determinism(hash_int::Int, expr::Expr)\n",
    "    rng_var::Symbol = :rng\n",
    "    return fix_rng_with_twister(expr, rng_var, hash_int)\n",
    "end\n",
    "\n",
    "macro determinism(rng_var::Symbol, hash_int::Int, expr::Expr)\n",
    "    return fix_rng_with_twister(expr, rng_var, hash_int)\n",
    "end\n",
    "# Test \n",
    "new_code = fix_rng_with_twister(copy(code), :rng, 0)\n",
    "print_both_expr(code, new_code)"
   ]
  },
  {
   "cell_type": "code",
   "execution_count": null,
   "metadata": {},
   "outputs": [],
   "source": []
  },
  {
   "cell_type": "code",
   "execution_count": null,
   "metadata": {},
   "outputs": [],
   "source": []
  },
  {
   "cell_type": "code",
   "execution_count": 159,
   "metadata": {},
   "outputs": [],
   "source": [
    "a = zeros(4,4)\n",
    "begin\n",
    "    for i =1:4\n",
    "        @sync @threads for j in 1:4\n",
    "            rng = MersenneTwister(hash((i,j)))\n",
    "            a[i,j] = sum(rand(rng, 10))\n",
    "        end\n",
    "    end\n",
    "end"
   ]
  },
  {
   "cell_type": "code",
   "execution_count": 160,
   "metadata": {},
   "outputs": [],
   "source": [
    "@determinism begin\n",
    "    for i =1:4\n",
    "        @sync @threads for j in 1:4\n",
    "            a[i,j] = sum(rand(10))\n",
    "        end\n",
    "    end\n",
    "end"
   ]
  },
  {
   "cell_type": "code",
   "execution_count": null,
   "metadata": {},
   "outputs": [],
   "source": []
  }
 ],
 "metadata": {
  "kernelspec": {
   "display_name": "Julia 1.10.5",
   "language": "julia",
   "name": "julia-1.10"
  },
  "language_info": {
   "file_extension": ".jl",
   "mimetype": "application/julia",
   "name": "julia",
   "version": "1.10.5"
  }
 },
 "nbformat": 4,
 "nbformat_minor": 2
}
